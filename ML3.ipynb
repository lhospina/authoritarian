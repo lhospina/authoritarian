{
 "cells": [
  {
   "cell_type": "code",
   "execution_count": 48,
   "metadata": {},
   "outputs": [],
   "source": [
    "#import libraries\n",
    "import pandas as pd\n",
    "import numpy as np\n",
    "import matplotlib.pyplot as plt\n",
    "\n",
    "#import dataset\n",
    "data = pd.read_csv('dataclean.csv')"
   ]
  },
  {
   "cell_type": "code",
   "execution_count": 34,
   "metadata": {},
   "outputs": [],
   "source": [
    "#Create new predictor dataset with some categorical vars\n",
    "X = data[['extraversion', 'agreeableness', 'conscientiousness','emotionalstability', \n",
    "          'opennesstoexperience','education','gender','religion','voted','married']]\n",
    "\n",
    "#Define your dependent varaiable, y:\n",
    "y = data['rwasTot']"
   ]
  },
  {
   "cell_type": "code",
   "execution_count": 35,
   "metadata": {},
   "outputs": [],
   "source": [
    "#Dummy Code\n",
    "X = pd.get_dummies(X, columns=['education','gender','religion','voted','married']\n",
    "          ,drop_first=True)"
   ]
  },
  {
   "cell_type": "code",
   "execution_count": 36,
   "metadata": {},
   "outputs": [],
   "source": [
    "# Splitting the dataset into the Training set and Test set\n",
    "from sklearn.cross_validation import train_test_split\n",
    "X_train, X_test, y_train, y_test = train_test_split(X, y, test_size = 0.2, random_state = 0)"
   ]
  },
  {
   "cell_type": "code",
   "execution_count": 37,
   "metadata": {},
   "outputs": [],
   "source": [
    "# Feature Scaling\n",
    "from sklearn.preprocessing import StandardScaler\n",
    "sc_X = StandardScaler()\n",
    "X_train = sc_X.fit_transform(X_train)\n",
    "X_test = sc_X.transform(X_test)"
   ]
  },
  {
   "cell_type": "code",
   "execution_count": 38,
   "metadata": {},
   "outputs": [
    {
     "data": {
      "text/plain": [
       "LinearRegression(copy_X=True, fit_intercept=True, n_jobs=1, normalize=False)"
      ]
     },
     "execution_count": 38,
     "metadata": {},
     "output_type": "execute_result"
    }
   ],
   "source": [
    "# fit a model\n",
    "from sklearn.linear_model import LinearRegression\n",
    "regressor = LinearRegression()\n",
    "regressor.fit(X_train, y_train)"
   ]
  },
  {
   "cell_type": "code",
   "execution_count": 39,
   "metadata": {},
   "outputs": [
    {
     "name": "stdout",
     "output_type": "stream",
     "text": [
      "102.33906000536835\n"
     ]
    }
   ],
   "source": [
    "#Print y-intercept of model\n",
    "print(regressor.intercept_)"
   ]
  },
  {
   "cell_type": "code",
   "execution_count": 40,
   "metadata": {},
   "outputs": [
    {
     "data": {
      "text/html": [
       "<div>\n",
       "<style scoped>\n",
       "    .dataframe tbody tr th:only-of-type {\n",
       "        vertical-align: middle;\n",
       "    }\n",
       "\n",
       "    .dataframe tbody tr th {\n",
       "        vertical-align: top;\n",
       "    }\n",
       "\n",
       "    .dataframe thead th {\n",
       "        text-align: right;\n",
       "    }\n",
       "</style>\n",
       "<table border=\"1\" class=\"dataframe\">\n",
       "  <thead>\n",
       "    <tr style=\"text-align: right;\">\n",
       "      <th></th>\n",
       "      <th>Coefficient</th>\n",
       "    </tr>\n",
       "  </thead>\n",
       "  <tbody>\n",
       "    <tr>\n",
       "      <th>extraversion</th>\n",
       "      <td>0.674946</td>\n",
       "    </tr>\n",
       "    <tr>\n",
       "      <th>agreeableness</th>\n",
       "      <td>-0.351633</td>\n",
       "    </tr>\n",
       "    <tr>\n",
       "      <th>conscientiousness</th>\n",
       "      <td>1.021464</td>\n",
       "    </tr>\n",
       "    <tr>\n",
       "      <th>emotionalstability</th>\n",
       "      <td>0.014977</td>\n",
       "    </tr>\n",
       "    <tr>\n",
       "      <th>opennesstoexperience</th>\n",
       "      <td>-0.634797</td>\n",
       "    </tr>\n",
       "    <tr>\n",
       "      <th>education_2.0</th>\n",
       "      <td>-0.552730</td>\n",
       "    </tr>\n",
       "    <tr>\n",
       "      <th>education_3.0</th>\n",
       "      <td>-1.556756</td>\n",
       "    </tr>\n",
       "    <tr>\n",
       "      <th>education_4.0</th>\n",
       "      <td>-2.204799</td>\n",
       "    </tr>\n",
       "    <tr>\n",
       "      <th>gender_2.0</th>\n",
       "      <td>0.234449</td>\n",
       "    </tr>\n",
       "    <tr>\n",
       "      <th>gender_3.0</th>\n",
       "      <td>-0.167733</td>\n",
       "    </tr>\n",
       "    <tr>\n",
       "      <th>religion_2.0</th>\n",
       "      <td>0.028227</td>\n",
       "    </tr>\n",
       "    <tr>\n",
       "      <th>religion_3.0</th>\n",
       "      <td>0.379364</td>\n",
       "    </tr>\n",
       "    <tr>\n",
       "      <th>religion_4.0</th>\n",
       "      <td>0.634778</td>\n",
       "    </tr>\n",
       "    <tr>\n",
       "      <th>religion_5.0</th>\n",
       "      <td>-0.401574</td>\n",
       "    </tr>\n",
       "    <tr>\n",
       "      <th>religion_6.0</th>\n",
       "      <td>-0.311352</td>\n",
       "    </tr>\n",
       "    <tr>\n",
       "      <th>religion_7.0</th>\n",
       "      <td>0.328182</td>\n",
       "    </tr>\n",
       "    <tr>\n",
       "      <th>religion_8.0</th>\n",
       "      <td>0.561310</td>\n",
       "    </tr>\n",
       "    <tr>\n",
       "      <th>religion_9.0</th>\n",
       "      <td>-0.035001</td>\n",
       "    </tr>\n",
       "    <tr>\n",
       "      <th>religion_10.0</th>\n",
       "      <td>0.436098</td>\n",
       "    </tr>\n",
       "    <tr>\n",
       "      <th>religion_11.0</th>\n",
       "      <td>0.062854</td>\n",
       "    </tr>\n",
       "    <tr>\n",
       "      <th>religion_12.0</th>\n",
       "      <td>0.361556</td>\n",
       "    </tr>\n",
       "    <tr>\n",
       "      <th>voted_2.0</th>\n",
       "      <td>-0.021801</td>\n",
       "    </tr>\n",
       "    <tr>\n",
       "      <th>married_2.0</th>\n",
       "      <td>-0.875493</td>\n",
       "    </tr>\n",
       "    <tr>\n",
       "      <th>married_3.0</th>\n",
       "      <td>-0.482146</td>\n",
       "    </tr>\n",
       "  </tbody>\n",
       "</table>\n",
       "</div>"
      ],
      "text/plain": [
       "                      Coefficient\n",
       "extraversion             0.674946\n",
       "agreeableness           -0.351633\n",
       "conscientiousness        1.021464\n",
       "emotionalstability       0.014977\n",
       "opennesstoexperience    -0.634797\n",
       "education_2.0           -0.552730\n",
       "education_3.0           -1.556756\n",
       "education_4.0           -2.204799\n",
       "gender_2.0               0.234449\n",
       "gender_3.0              -0.167733\n",
       "religion_2.0             0.028227\n",
       "religion_3.0             0.379364\n",
       "religion_4.0             0.634778\n",
       "religion_5.0            -0.401574\n",
       "religion_6.0            -0.311352\n",
       "religion_7.0             0.328182\n",
       "religion_8.0             0.561310\n",
       "religion_9.0            -0.035001\n",
       "religion_10.0            0.436098\n",
       "religion_11.0            0.062854\n",
       "religion_12.0            0.361556\n",
       "voted_2.0               -0.021801\n",
       "married_2.0             -0.875493\n",
       "married_3.0             -0.482146"
      ]
     },
     "execution_count": 40,
     "metadata": {},
     "output_type": "execute_result"
    }
   ],
   "source": [
    "#Print Coefficients for your predictors\n",
    "coeff_df = pd.DataFrame(regressor.coef_, X.columns, columns=['Coefficient'])  \n",
    "coeff_df "
   ]
  },
  {
   "cell_type": "code",
   "execution_count": 41,
   "metadata": {},
   "outputs": [
    {
     "name": "stdout",
     "output_type": "stream",
     "text": [
      "Training set score: 0.07\n"
     ]
    }
   ],
   "source": [
    "#Outputs the training and testing scores\n",
    "print(\"Training set score: {:.2f}\".format(regressor.score(X_train, y_train)))"
   ]
  },
  {
   "cell_type": "code",
   "execution_count": 42,
   "metadata": {},
   "outputs": [],
   "source": [
    "#Redo with 10-Fold Cross Validation\n",
    "from sklearn.model_selection import cross_val_score  \n",
    "all_accuracies = cross_val_score(estimator=regressor, X=X_train, y=y_train, cv=10)"
   ]
  },
  {
   "cell_type": "code",
   "execution_count": 43,
   "metadata": {},
   "outputs": [
    {
     "name": "stdout",
     "output_type": "stream",
     "text": [
      "Cross-validated scores: [0.05572649 0.0871927  0.07625724 0.02015387 0.05791647 0.05714258\n",
      " 0.07982406 0.0460762  0.06844402 0.05562003]\n"
     ]
    }
   ],
   "source": [
    "print('Cross-validated scores:', all_accuracies)"
   ]
  },
  {
   "cell_type": "code",
   "execution_count": 44,
   "metadata": {},
   "outputs": [
    {
     "name": "stdout",
     "output_type": "stream",
     "text": [
      "0.060435366626016895\n"
     ]
    }
   ],
   "source": [
    "# use average accuracy as an estimate of out-of-sample accuracy\n",
    "# numpy array has a method mean()\n",
    "print(all_accuracies.mean())"
   ]
  },
  {
   "cell_type": "code",
   "execution_count": 45,
   "metadata": {},
   "outputs": [],
   "source": [
    "# Predicting the Test set results\n",
    "y_pred = regressor.predict(X_test)"
   ]
  },
  {
   "cell_type": "code",
   "execution_count": 50,
   "metadata": {},
   "outputs": [
    {
     "data": {
      "image/png": "[encoded data removed]",
      "text/plain": [
       "<matplotlib.figure.Figure at 0x1a1a5f9c18>"
      ]
     },
     "metadata": {},
     "output_type": "display_data"
    }
   ],
   "source": [
    "#Graph plotting Actual against Predicted Values\n",
    "y_pred_a = pd.DataFrame(y_pred)\n",
    "y_test_a = y_test.reset_index(drop=True, inplace=False)\n",
    "pred_act_df = pd.concat([y_test_a,y_pred_a], axis=1).sort_values(1,axis=1).reset_index(drop=True)\n",
    "\n",
    "#output samples of our predicted values\n",
    "plt.figure(figsize=(6, 6))\n",
    "maxlimit = pred_act_df['rwasTot'].max()\n",
    "plt.xlim(-1, maxlimit)\n",
    "plt.ylim(-1, maxlimit)\n",
    "plt.scatter(pred_act_df[0], pred_act_df['rwasTot'], s=10)\n",
    "plt.xlabel('Predicted RWA Score')\n",
    "plt.ylabel('Actual RWA Score')\n",
    "plt.plot([-1,maxlimit], [-1,maxlimit], ls=\"--\", c=\".3\")\n",
    "plt.title('Actual vs Predicted RWA Scores')\n",
    "plt.savefig('ML3_1.png', dpi=300)\n",
    "plt.show()"
   ]
  },
  {
   "cell_type": "code",
   "execution_count": 49,
   "metadata": {},
   "outputs": [
    {
     "name": "stdout",
     "output_type": "stream",
     "text": [
      "Mean Absolute Error: 7.599542849437192\n",
      "Mean Squared Error: 107.9635699801941\n",
      "Root Mean Squared Error: 10.390551957436818\n"
     ]
    }
   ],
   "source": [
    "#Evaluating the algorithm\n",
    "from sklearn import metrics  \n",
    "print('Mean Absolute Error:', metrics.mean_absolute_error(y_test, y_pred))  \n",
    "print('Mean Squared Error:', metrics.mean_squared_error(y_test, y_pred))  \n",
    "print('Root Mean Squared Error:', np.sqrt(metrics.mean_squared_error(y_test, y_pred))) "
   ]
  },
  {
   "cell_type": "code",
   "execution_count": 51,
   "metadata": {},
   "outputs": [
    {
     "name": "stderr",
     "output_type": "stream",
     "text": [
      "/anaconda3/lib/python3.6/site-packages/statsmodels/compat/pandas.py:56: FutureWarning: The pandas.core.datetools module is deprecated and will be removed in a future version. Please use the pandas.tseries module instead.\n",
      "  from pandas.core import datetools\n"
     ]
    },
    {
     "name": "stdout",
     "output_type": "stream",
     "text": [
      "                            OLS Regression Results                            \n",
      "==============================================================================\n",
      "Dep. Variable:                rwasTot   R-squared:                       0.069\n",
      "Model:                            OLS   Adj. R-squared:                  0.066\n",
      "Method:                 Least Squares   F-statistic:                     23.70\n",
      "Date:                Sun, 05 May 2019   Prob (F-statistic):          8.09e-101\n",
      "Time:                        14:27:34   Log-Likelihood:                -29332.\n",
      "No. Observations:                7728   AIC:                         5.871e+04\n",
      "Df Residuals:                    7703   BIC:                         5.889e+04\n",
      "Df Model:                          24                                         \n",
      "Covariance Type:            nonrobust                                         \n",
      "==============================================================================\n",
      "                 coef    std err          t      P>|t|      [0.025      0.975]\n",
      "------------------------------------------------------------------------------\n",
      "const        102.3391      0.123    834.069      0.000     102.099     102.580\n",
      "x1             0.6749      0.129      5.237      0.000       0.422       0.928\n",
      "x2            -0.3516      0.131     -2.677      0.007      -0.609      -0.094\n",
      "x3             1.0215      0.132      7.753      0.000       0.763       1.280\n",
      "x4             0.0150      0.136      0.110      0.912      -0.251       0.281\n",
      "x5            -0.6348      0.129     -4.907      0.000      -0.888      -0.381\n",
      "x6            -0.5527      0.215     -2.572      0.010      -0.974      -0.132\n",
      "x7            -1.5568      0.221     -7.054      0.000      -1.989      -1.124\n",
      "x8            -2.2048      0.211    -10.439      0.000      -2.619      -1.791\n",
      "x9             0.2344      0.131      1.794      0.073      -0.022       0.491\n",
      "x10           -0.1677      0.125     -1.342      0.180      -0.413       0.077\n",
      "x11            0.0282      0.158      0.179      0.858      -0.281       0.337\n",
      "x12            0.3794      0.126      3.010      0.003       0.132       0.626\n",
      "x13            0.6348      0.140      4.540      0.000       0.361       0.909\n",
      "x14           -0.4016      0.125     -3.216      0.001      -0.646      -0.157\n",
      "x15           -0.3114      0.142     -2.199      0.028      -0.589      -0.034\n",
      "x16            0.3282      0.136      2.413      0.016       0.062       0.595\n",
      "x17            0.5613      0.124      4.521      0.000       0.318       0.805\n",
      "x18           -0.0350      0.126     -0.278      0.781      -0.282       0.212\n",
      "x19            0.4361      0.126      3.456      0.001       0.189       0.683\n",
      "x20            0.0629      0.123      0.511      0.609      -0.178       0.304\n",
      "x21            0.3616      0.138      2.629      0.009       0.092       0.631\n",
      "x22           -0.0218      0.131     -0.167      0.868      -0.278       0.234\n",
      "x23           -0.8755      0.138     -6.339      0.000      -1.146      -0.605\n",
      "x24           -0.4821      0.128     -3.756      0.000      -0.734      -0.230\n",
      "==============================================================================\n",
      "Omnibus:                      742.371   Durbin-Watson:                   1.978\n",
      "Prob(Omnibus):                  0.000   Jarque-Bera (JB):             1991.699\n",
      "Skew:                           0.543   Prob(JB):                         0.00\n",
      "Kurtosis:                       5.238   Cond. No.                         4.12\n",
      "==============================================================================\n",
      "\n",
      "Warnings:\n",
      "[1] Standard Errors assume that the covariance matrix of the errors is correctly specified.\n",
      "0.06586366158470947\n"
     ]
    }
   ],
   "source": [
    "#Using hypothesis testing to evaluate our p-values\n",
    "import statsmodels.api as sm \n",
    "\n",
    "#training the OLS algorithm and outputting the summary statistics\n",
    "X_train_sm = sm.add_constant(X_train)\n",
    "sm_model = sm.OLS(y_train, X_train_sm).fit()\n",
    "print(sm_model.summary())\n",
    "print(sm_model.rsquared_adj)"
   ]
  }
 ],
 "metadata": {
  "kernelspec": {
   "display_name": "Python 3",
   "language": "python",
   "name": "python3"
  },
  "language_info": {
   "codemirror_mode": {
    "name": "ipython",
    "version": 3
   },
   "file_extension": ".py",
   "mimetype": "text/x-python",
   "name": "python",
   "nbconvert_exporter": "python",
   "pygments_lexer": "ipython3",
   "version": "3.6.4"
  }
 },
 "nbformat": 4,
 "nbformat_minor": 2
}
